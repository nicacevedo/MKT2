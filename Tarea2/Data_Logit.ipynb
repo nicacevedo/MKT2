{
 "metadata": {
  "language_info": {
   "codemirror_mode": {
    "name": "ipython",
    "version": 3
   },
   "file_extension": ".py",
   "mimetype": "text/x-python",
   "name": "python",
   "nbconvert_exporter": "python",
   "pygments_lexer": "ipython3",
   "version": "3.9.4"
  },
  "orig_nbformat": 2,
  "kernelspec": {
   "name": "python3",
   "display_name": "Python 3.9.4 64-bit"
  },
  "metadata": {
   "interpreter": {
    "hash": "916dbcbb3f70747c44a77c7bcd40155683ae19c65e1c03b4aa3499c5328201f1"
   }
  },
  "interpreter": {
   "hash": "f06a86bce79acaf3acf2e76ec4fe633dd4361b94f634cdb8baa7b4f8e375f272"
  }
 },
 "nbformat": 4,
 "nbformat_minor": 2,
 "cells": [
  {
   "cell_type": "code",
   "execution_count": 73,
   "metadata": {},
   "outputs": [],
   "source": [
    "## Liberías\n",
    "\n",
    "# Clásicas de análisis de datos\n",
    "import pandas as pd \n",
    "import numpy as np\n",
    "import matplotlib.pyplot as plt\n",
    "\n",
    "# Librerías de ML\n",
    "from sklearn.linear_model import LogisticRegression\n",
    "from sklearn.model_selection import train_test_split\n",
    "\n",
    "# Métricas de modelos\n",
    "from sklearn.metrics import confusion_matrix"
   ]
  },
  {
   "cell_type": "code",
   "execution_count": 74,
   "metadata": {},
   "outputs": [
    {
     "output_type": "execute_result",
     "data": {
      "text/plain": [
       "       Expertos  Capitulos  Animes  Edad  Mujer  CantCaps  Scoremyanimelist  \\\n",
       "1.1.1         1          1       1    42      1       575               8.0   \n",
       "1.1.2         1          1       2    42      1       720               6.5   \n",
       "1.1.3         1          1       3    42      1       148              10.0   \n",
       "1.1.4         1          1       4    42      1       113               4.0   \n",
       "1.2.1         1          2       1    42      1       575               8.0   \n",
       "1.2.2         1          2       2    42      1       720               6.5   \n",
       "1.2.3         1          2       3    42      1       148              10.0   \n",
       "1.2.4         1          2       4    42      1       113               4.0   \n",
       "1.3.1         1          3       1    42      1       575               8.0   \n",
       "1.3.2         1          3       2    42      1       720               6.5   \n",
       "\n",
       "       NEscenasCombate  NescenasEmocionantes  CalidadAnimacion  \\\n",
       "1.1.1                3                     2                 4   \n",
       "1.1.2                4                     1                 7   \n",
       "1.1.3                1                     0                 2   \n",
       "1.1.4                2                     1                 8   \n",
       "1.2.1                4                     1                 7   \n",
       "1.2.2                4                     3                 6   \n",
       "1.2.3                2                     3                 3   \n",
       "1.2.4                4                     2                 4   \n",
       "1.3.1                2                     1                 2   \n",
       "1.3.2                2                     2                 4   \n",
       "\n",
       "       DuracionCapituloMin  RatingTV  Eleccion  \n",
       "1.1.1                   41        13         0  \n",
       "1.1.2                   54        27         1  \n",
       "1.1.3                   30        20         0  \n",
       "1.1.4                   53        15         0  \n",
       "1.2.1                   59        25         0  \n",
       "1.2.2                   32        19         0  \n",
       "1.2.3                   44        38         1  \n",
       "1.2.4                   35        37         0  \n",
       "1.3.1                   45        29         0  \n",
       "1.3.2                   34        32         1  "
      ],
      "text/html": "<div>\n<style scoped>\n    .dataframe tbody tr th:only-of-type {\n        vertical-align: middle;\n    }\n\n    .dataframe tbody tr th {\n        vertical-align: top;\n    }\n\n    .dataframe thead th {\n        text-align: right;\n    }\n</style>\n<table border=\"1\" class=\"dataframe\">\n  <thead>\n    <tr style=\"text-align: right;\">\n      <th></th>\n      <th>Expertos</th>\n      <th>Capitulos</th>\n      <th>Animes</th>\n      <th>Edad</th>\n      <th>Mujer</th>\n      <th>CantCaps</th>\n      <th>Scoremyanimelist</th>\n      <th>NEscenasCombate</th>\n      <th>NescenasEmocionantes</th>\n      <th>CalidadAnimacion</th>\n      <th>DuracionCapituloMin</th>\n      <th>RatingTV</th>\n      <th>Eleccion</th>\n    </tr>\n  </thead>\n  <tbody>\n    <tr>\n      <th>1.1.1</th>\n      <td>1</td>\n      <td>1</td>\n      <td>1</td>\n      <td>42</td>\n      <td>1</td>\n      <td>575</td>\n      <td>8.0</td>\n      <td>3</td>\n      <td>2</td>\n      <td>4</td>\n      <td>41</td>\n      <td>13</td>\n      <td>0</td>\n    </tr>\n    <tr>\n      <th>1.1.2</th>\n      <td>1</td>\n      <td>1</td>\n      <td>2</td>\n      <td>42</td>\n      <td>1</td>\n      <td>720</td>\n      <td>6.5</td>\n      <td>4</td>\n      <td>1</td>\n      <td>7</td>\n      <td>54</td>\n      <td>27</td>\n      <td>1</td>\n    </tr>\n    <tr>\n      <th>1.1.3</th>\n      <td>1</td>\n      <td>1</td>\n      <td>3</td>\n      <td>42</td>\n      <td>1</td>\n      <td>148</td>\n      <td>10.0</td>\n      <td>1</td>\n      <td>0</td>\n      <td>2</td>\n      <td>30</td>\n      <td>20</td>\n      <td>0</td>\n    </tr>\n    <tr>\n      <th>1.1.4</th>\n      <td>1</td>\n      <td>1</td>\n      <td>4</td>\n      <td>42</td>\n      <td>1</td>\n      <td>113</td>\n      <td>4.0</td>\n      <td>2</td>\n      <td>1</td>\n      <td>8</td>\n      <td>53</td>\n      <td>15</td>\n      <td>0</td>\n    </tr>\n    <tr>\n      <th>1.2.1</th>\n      <td>1</td>\n      <td>2</td>\n      <td>1</td>\n      <td>42</td>\n      <td>1</td>\n      <td>575</td>\n      <td>8.0</td>\n      <td>4</td>\n      <td>1</td>\n      <td>7</td>\n      <td>59</td>\n      <td>25</td>\n      <td>0</td>\n    </tr>\n    <tr>\n      <th>1.2.2</th>\n      <td>1</td>\n      <td>2</td>\n      <td>2</td>\n      <td>42</td>\n      <td>1</td>\n      <td>720</td>\n      <td>6.5</td>\n      <td>4</td>\n      <td>3</td>\n      <td>6</td>\n      <td>32</td>\n      <td>19</td>\n      <td>0</td>\n    </tr>\n    <tr>\n      <th>1.2.3</th>\n      <td>1</td>\n      <td>2</td>\n      <td>3</td>\n      <td>42</td>\n      <td>1</td>\n      <td>148</td>\n      <td>10.0</td>\n      <td>2</td>\n      <td>3</td>\n      <td>3</td>\n      <td>44</td>\n      <td>38</td>\n      <td>1</td>\n    </tr>\n    <tr>\n      <th>1.2.4</th>\n      <td>1</td>\n      <td>2</td>\n      <td>4</td>\n      <td>42</td>\n      <td>1</td>\n      <td>113</td>\n      <td>4.0</td>\n      <td>4</td>\n      <td>2</td>\n      <td>4</td>\n      <td>35</td>\n      <td>37</td>\n      <td>0</td>\n    </tr>\n    <tr>\n      <th>1.3.1</th>\n      <td>1</td>\n      <td>3</td>\n      <td>1</td>\n      <td>42</td>\n      <td>1</td>\n      <td>575</td>\n      <td>8.0</td>\n      <td>2</td>\n      <td>1</td>\n      <td>2</td>\n      <td>45</td>\n      <td>29</td>\n      <td>0</td>\n    </tr>\n    <tr>\n      <th>1.3.2</th>\n      <td>1</td>\n      <td>3</td>\n      <td>2</td>\n      <td>42</td>\n      <td>1</td>\n      <td>720</td>\n      <td>6.5</td>\n      <td>2</td>\n      <td>2</td>\n      <td>4</td>\n      <td>34</td>\n      <td>32</td>\n      <td>1</td>\n    </tr>\n  </tbody>\n</table>\n</div>"
     },
     "metadata": {},
     "execution_count": 74
    }
   ],
   "source": [
    "# Dataset Original\n",
    "df = pd.read_csv('./Dataset/Anime2.csv', index_col=0)\n",
    "df.head(10)"
   ]
  },
  {
   "cell_type": "code",
   "execution_count": 75,
   "metadata": {},
   "outputs": [
    {
     "output_type": "execute_result",
     "data": {
      "text/plain": [
       "22.5"
      ]
     },
     "metadata": {},
     "execution_count": 75
    }
   ],
   "source": [
    "df['RatingTV'].median()"
   ]
  },
  {
   "cell_type": "code",
   "execution_count": 76,
   "metadata": {},
   "outputs": [
    {
     "output_type": "execute_result",
     "data": {
      "text/plain": [
       "       Expertos  Capitulos  Animes  Edad  Mujer  Caps  Score  Combat  Emotion  \\\n",
       "1.1.1         1          1       1    42      1   575    8.0       3        2   \n",
       "1.1.2         1          1       2    42      1   720    6.5       4        1   \n",
       "1.1.3         1          1       3    42      1   148   10.0       1        0   \n",
       "1.1.4         1          1       4    42      1   113    4.0       2        1   \n",
       "1.2.1         1          2       1    42      1   575    8.0       4        1   \n",
       "\n",
       "       Qual  Duration  Rating  Eleccion  \n",
       "1.1.1     4        41      13         0  \n",
       "1.1.2     7        54      27         1  \n",
       "1.1.3     2        30      20         0  \n",
       "1.1.4     8        53      15         0  \n",
       "1.2.1     7        59      25         0  "
      ],
      "text/html": "<div>\n<style scoped>\n    .dataframe tbody tr th:only-of-type {\n        vertical-align: middle;\n    }\n\n    .dataframe tbody tr th {\n        vertical-align: top;\n    }\n\n    .dataframe thead th {\n        text-align: right;\n    }\n</style>\n<table border=\"1\" class=\"dataframe\">\n  <thead>\n    <tr style=\"text-align: right;\">\n      <th></th>\n      <th>Expertos</th>\n      <th>Capitulos</th>\n      <th>Animes</th>\n      <th>Edad</th>\n      <th>Mujer</th>\n      <th>Caps</th>\n      <th>Score</th>\n      <th>Combat</th>\n      <th>Emotion</th>\n      <th>Qual</th>\n      <th>Duration</th>\n      <th>Rating</th>\n      <th>Eleccion</th>\n    </tr>\n  </thead>\n  <tbody>\n    <tr>\n      <th>1.1.1</th>\n      <td>1</td>\n      <td>1</td>\n      <td>1</td>\n      <td>42</td>\n      <td>1</td>\n      <td>575</td>\n      <td>8.0</td>\n      <td>3</td>\n      <td>2</td>\n      <td>4</td>\n      <td>41</td>\n      <td>13</td>\n      <td>0</td>\n    </tr>\n    <tr>\n      <th>1.1.2</th>\n      <td>1</td>\n      <td>1</td>\n      <td>2</td>\n      <td>42</td>\n      <td>1</td>\n      <td>720</td>\n      <td>6.5</td>\n      <td>4</td>\n      <td>1</td>\n      <td>7</td>\n      <td>54</td>\n      <td>27</td>\n      <td>1</td>\n    </tr>\n    <tr>\n      <th>1.1.3</th>\n      <td>1</td>\n      <td>1</td>\n      <td>3</td>\n      <td>42</td>\n      <td>1</td>\n      <td>148</td>\n      <td>10.0</td>\n      <td>1</td>\n      <td>0</td>\n      <td>2</td>\n      <td>30</td>\n      <td>20</td>\n      <td>0</td>\n    </tr>\n    <tr>\n      <th>1.1.4</th>\n      <td>1</td>\n      <td>1</td>\n      <td>4</td>\n      <td>42</td>\n      <td>1</td>\n      <td>113</td>\n      <td>4.0</td>\n      <td>2</td>\n      <td>1</td>\n      <td>8</td>\n      <td>53</td>\n      <td>15</td>\n      <td>0</td>\n    </tr>\n    <tr>\n      <th>1.2.1</th>\n      <td>1</td>\n      <td>2</td>\n      <td>1</td>\n      <td>42</td>\n      <td>1</td>\n      <td>575</td>\n      <td>8.0</td>\n      <td>4</td>\n      <td>1</td>\n      <td>7</td>\n      <td>59</td>\n      <td>25</td>\n      <td>0</td>\n    </tr>\n  </tbody>\n</table>\n</div>"
     },
     "metadata": {},
     "execution_count": 76
    }
   ],
   "source": [
    "# Cambiamos el nombre de algunas columnas para facilitar la vida\n",
    "\n",
    "# Atributos a agrupar en una sola fila por eleccion \n",
    "cambio_nombre = {'NEscenasCombate':'Combat', 'NescenasEmocionantes':'Emotion', 'CalidadAnimacion':'Qual', 'DuracionCapituloMin':'Duration', 'RatingTV':'Rating', 'CantCaps':'Caps', 'Scoremyanimelist':'Score'}\n",
    "\n",
    "# Cambio de nombre\n",
    "df.rename(cambio_nombre, axis=1, inplace=True)\n",
    "\n",
    "df.head()"
   ]
  },
  {
   "source": [
    "### Homogéneo\n",
    "\n",
    "Formato de clases (Previo a Wide)"
   ],
   "cell_type": "markdown",
   "metadata": {}
  },
  {
   "cell_type": "code",
   "execution_count": 77,
   "metadata": {},
   "outputs": [
    {
     "output_type": "execute_result",
     "data": {
      "text/plain": [
       "       Expertos  Capitulos  Mujer  Combat  Emotion  Qual  Duration  Eleccion\n",
       "1.1.1         1          1      1       3        2     4        41         0\n",
       "1.1.2         1          1      1       4        1     7        54         2\n",
       "1.1.3         1          1      1       1        0     2        30         0\n",
       "1.1.4         1          1      1       2        1     8        53         0\n",
       "1.2.1         1          2      1       4        1     7        59         0\n",
       "1.2.2         1          2      1       4        3     6        32         0\n",
       "1.2.3         1          2      1       2        3     3        44         3\n",
       "1.2.4         1          2      1       4        2     4        35         0\n",
       "1.3.1         1          3      1       2        1     2        45         0\n",
       "1.3.2         1          3      1       2        2     4        34         2\n",
       "1.3.3         1          3      1       1        2     1        46         0\n",
       "1.3.4         1          3      1       2        1     6        48         0"
      ],
      "text/html": "<div>\n<style scoped>\n    .dataframe tbody tr th:only-of-type {\n        vertical-align: middle;\n    }\n\n    .dataframe tbody tr th {\n        vertical-align: top;\n    }\n\n    .dataframe thead th {\n        text-align: right;\n    }\n</style>\n<table border=\"1\" class=\"dataframe\">\n  <thead>\n    <tr style=\"text-align: right;\">\n      <th></th>\n      <th>Expertos</th>\n      <th>Capitulos</th>\n      <th>Mujer</th>\n      <th>Combat</th>\n      <th>Emotion</th>\n      <th>Qual</th>\n      <th>Duration</th>\n      <th>Eleccion</th>\n    </tr>\n  </thead>\n  <tbody>\n    <tr>\n      <th>1.1.1</th>\n      <td>1</td>\n      <td>1</td>\n      <td>1</td>\n      <td>3</td>\n      <td>2</td>\n      <td>4</td>\n      <td>41</td>\n      <td>0</td>\n    </tr>\n    <tr>\n      <th>1.1.2</th>\n      <td>1</td>\n      <td>1</td>\n      <td>1</td>\n      <td>4</td>\n      <td>1</td>\n      <td>7</td>\n      <td>54</td>\n      <td>2</td>\n    </tr>\n    <tr>\n      <th>1.1.3</th>\n      <td>1</td>\n      <td>1</td>\n      <td>1</td>\n      <td>1</td>\n      <td>0</td>\n      <td>2</td>\n      <td>30</td>\n      <td>0</td>\n    </tr>\n    <tr>\n      <th>1.1.4</th>\n      <td>1</td>\n      <td>1</td>\n      <td>1</td>\n      <td>2</td>\n      <td>1</td>\n      <td>8</td>\n      <td>53</td>\n      <td>0</td>\n    </tr>\n    <tr>\n      <th>1.2.1</th>\n      <td>1</td>\n      <td>2</td>\n      <td>1</td>\n      <td>4</td>\n      <td>1</td>\n      <td>7</td>\n      <td>59</td>\n      <td>0</td>\n    </tr>\n    <tr>\n      <th>1.2.2</th>\n      <td>1</td>\n      <td>2</td>\n      <td>1</td>\n      <td>4</td>\n      <td>3</td>\n      <td>6</td>\n      <td>32</td>\n      <td>0</td>\n    </tr>\n    <tr>\n      <th>1.2.3</th>\n      <td>1</td>\n      <td>2</td>\n      <td>1</td>\n      <td>2</td>\n      <td>3</td>\n      <td>3</td>\n      <td>44</td>\n      <td>3</td>\n    </tr>\n    <tr>\n      <th>1.2.4</th>\n      <td>1</td>\n      <td>2</td>\n      <td>1</td>\n      <td>4</td>\n      <td>2</td>\n      <td>4</td>\n      <td>35</td>\n      <td>0</td>\n    </tr>\n    <tr>\n      <th>1.3.1</th>\n      <td>1</td>\n      <td>3</td>\n      <td>1</td>\n      <td>2</td>\n      <td>1</td>\n      <td>2</td>\n      <td>45</td>\n      <td>0</td>\n    </tr>\n    <tr>\n      <th>1.3.2</th>\n      <td>1</td>\n      <td>3</td>\n      <td>1</td>\n      <td>2</td>\n      <td>2</td>\n      <td>4</td>\n      <td>34</td>\n      <td>2</td>\n    </tr>\n    <tr>\n      <th>1.3.3</th>\n      <td>1</td>\n      <td>3</td>\n      <td>1</td>\n      <td>1</td>\n      <td>2</td>\n      <td>1</td>\n      <td>46</td>\n      <td>0</td>\n    </tr>\n    <tr>\n      <th>1.3.4</th>\n      <td>1</td>\n      <td>3</td>\n      <td>1</td>\n      <td>2</td>\n      <td>1</td>\n      <td>6</td>\n      <td>48</td>\n      <td>0</td>\n    </tr>\n  </tbody>\n</table>\n</div>"
     },
     "metadata": {},
     "execution_count": 77
    }
   ],
   "source": [
    "# Dropeamos la columnas que no nos sirven para el análisis homogéneo\n",
    "# Expertos = indiv, capitulos = tiempo, anime = producto\n",
    "df_homogeneo = df.copy() #.drop(columns=['CantCaps', 'Scoremyanimelist'])\n",
    "\n",
    "# La elección la pasamos a categorías\n",
    "df_homogeneo['Eleccion'] = df_homogeneo['Eleccion'] * df_homogeneo['Animes']\n",
    "\n",
    "# Eliminamos anime que ya es parte de Eleccion\n",
    "df_homogeneo.drop(columns=['Animes', 'Edad', 'Rating', 'Score', 'Caps'], inplace=True)\n",
    "\n",
    "df_homogeneo.head(12)"
   ]
  },
  {
   "cell_type": "code",
   "execution_count": 78,
   "metadata": {},
   "outputs": [
    {
     "output_type": "execute_result",
     "data": {
      "text/plain": [
       "    Mujer    Eleccion  Combat.hunterX  Emotion.hunterX  Qual.hunterX  \\\n",
       "0       1  dragonball               3                2             4   \n",
       "1       1      naruto               4                1             7   \n",
       "2       1  dragonball               2                1             2   \n",
       "3       1  dragonball               3                1             7   \n",
       "4       1  dragonball               1                1             6   \n",
       "5       1        bnha               4                2             6   \n",
       "6       1  dragonball               4                2             6   \n",
       "7       1  dragonball               2                0             9   \n",
       "8       1  dragonball               4                2             2   \n",
       "9       1  dragonball               2                1             4   \n",
       "10      1  dragonball               4                1             9   \n",
       "11      1  dragonball               3                3             1   \n",
       "\n",
       "    Duration.hunterX  Combat.dragonball  Emotion.dragonball  Qual.dragonball  \\\n",
       "0                 41                  4                   1                7   \n",
       "1                 59                  4                   3                6   \n",
       "2                 45                  2                   2                4   \n",
       "3                 39                  4                   2                6   \n",
       "4                 46                  4                   2                7   \n",
       "5                 55                  3                   1                2   \n",
       "6                 31                  0                   1                3   \n",
       "7                 39                  2                   0                8   \n",
       "8                 51                  1                   2                8   \n",
       "9                 46                  2                   3                4   \n",
       "10                58                  0                   1                5   \n",
       "11                50                  3                   1                8   \n",
       "\n",
       "    Duration.dragonball  Combat.naruto  Emotion.naruto  Qual.naruto  \\\n",
       "0                    54              1               0            2   \n",
       "1                    32              2               3            3   \n",
       "2                    34              1               2            1   \n",
       "3                    58              3               0            8   \n",
       "4                    39              3               0            9   \n",
       "5                    58              3               0            4   \n",
       "6                    57              0               3            6   \n",
       "7                    31              4               1            6   \n",
       "8                    44              1               3            6   \n",
       "9                    56              3               1            7   \n",
       "10                   31              1               3            7   \n",
       "11                   33              3               0            7   \n",
       "\n",
       "    Duration.naruto  Combat.bnha  Emotion.bnha  Qual.bnha  Duration.bnha  \n",
       "0                30            2             1          8             53  \n",
       "1                44            4             2          4             35  \n",
       "2                46            2             1          6             48  \n",
       "3                32            2             2          8             54  \n",
       "4                56            1             2          2             50  \n",
       "5                55            0             0          9             59  \n",
       "6                44            2             0          1             45  \n",
       "7                35            3             3          4             34  \n",
       "8                53            2             3          5             33  \n",
       "9                30            1             2          9             35  \n",
       "10               47            0             0          7             54  \n",
       "11               34            0             2          7             31  "
      ],
      "text/html": "<div>\n<style scoped>\n    .dataframe tbody tr th:only-of-type {\n        vertical-align: middle;\n    }\n\n    .dataframe tbody tr th {\n        vertical-align: top;\n    }\n\n    .dataframe thead th {\n        text-align: right;\n    }\n</style>\n<table border=\"1\" class=\"dataframe\">\n  <thead>\n    <tr style=\"text-align: right;\">\n      <th></th>\n      <th>Mujer</th>\n      <th>Eleccion</th>\n      <th>Combat.hunterX</th>\n      <th>Emotion.hunterX</th>\n      <th>Qual.hunterX</th>\n      <th>Duration.hunterX</th>\n      <th>Combat.dragonball</th>\n      <th>Emotion.dragonball</th>\n      <th>Qual.dragonball</th>\n      <th>Duration.dragonball</th>\n      <th>Combat.naruto</th>\n      <th>Emotion.naruto</th>\n      <th>Qual.naruto</th>\n      <th>Duration.naruto</th>\n      <th>Combat.bnha</th>\n      <th>Emotion.bnha</th>\n      <th>Qual.bnha</th>\n      <th>Duration.bnha</th>\n    </tr>\n  </thead>\n  <tbody>\n    <tr>\n      <th>0</th>\n      <td>1</td>\n      <td>dragonball</td>\n      <td>3</td>\n      <td>2</td>\n      <td>4</td>\n      <td>41</td>\n      <td>4</td>\n      <td>1</td>\n      <td>7</td>\n      <td>54</td>\n      <td>1</td>\n      <td>0</td>\n      <td>2</td>\n      <td>30</td>\n      <td>2</td>\n      <td>1</td>\n      <td>8</td>\n      <td>53</td>\n    </tr>\n    <tr>\n      <th>1</th>\n      <td>1</td>\n      <td>naruto</td>\n      <td>4</td>\n      <td>1</td>\n      <td>7</td>\n      <td>59</td>\n      <td>4</td>\n      <td>3</td>\n      <td>6</td>\n      <td>32</td>\n      <td>2</td>\n      <td>3</td>\n      <td>3</td>\n      <td>44</td>\n      <td>4</td>\n      <td>2</td>\n      <td>4</td>\n      <td>35</td>\n    </tr>\n    <tr>\n      <th>2</th>\n      <td>1</td>\n      <td>dragonball</td>\n      <td>2</td>\n      <td>1</td>\n      <td>2</td>\n      <td>45</td>\n      <td>2</td>\n      <td>2</td>\n      <td>4</td>\n      <td>34</td>\n      <td>1</td>\n      <td>2</td>\n      <td>1</td>\n      <td>46</td>\n      <td>2</td>\n      <td>1</td>\n      <td>6</td>\n      <td>48</td>\n    </tr>\n    <tr>\n      <th>3</th>\n      <td>1</td>\n      <td>dragonball</td>\n      <td>3</td>\n      <td>1</td>\n      <td>7</td>\n      <td>39</td>\n      <td>4</td>\n      <td>2</td>\n      <td>6</td>\n      <td>58</td>\n      <td>3</td>\n      <td>0</td>\n      <td>8</td>\n      <td>32</td>\n      <td>2</td>\n      <td>2</td>\n      <td>8</td>\n      <td>54</td>\n    </tr>\n    <tr>\n      <th>4</th>\n      <td>1</td>\n      <td>dragonball</td>\n      <td>1</td>\n      <td>1</td>\n      <td>6</td>\n      <td>46</td>\n      <td>4</td>\n      <td>2</td>\n      <td>7</td>\n      <td>39</td>\n      <td>3</td>\n      <td>0</td>\n      <td>9</td>\n      <td>56</td>\n      <td>1</td>\n      <td>2</td>\n      <td>2</td>\n      <td>50</td>\n    </tr>\n    <tr>\n      <th>5</th>\n      <td>1</td>\n      <td>bnha</td>\n      <td>4</td>\n      <td>2</td>\n      <td>6</td>\n      <td>55</td>\n      <td>3</td>\n      <td>1</td>\n      <td>2</td>\n      <td>58</td>\n      <td>3</td>\n      <td>0</td>\n      <td>4</td>\n      <td>55</td>\n      <td>0</td>\n      <td>0</td>\n      <td>9</td>\n      <td>59</td>\n    </tr>\n    <tr>\n      <th>6</th>\n      <td>1</td>\n      <td>dragonball</td>\n      <td>4</td>\n      <td>2</td>\n      <td>6</td>\n      <td>31</td>\n      <td>0</td>\n      <td>1</td>\n      <td>3</td>\n      <td>57</td>\n      <td>0</td>\n      <td>3</td>\n      <td>6</td>\n      <td>44</td>\n      <td>2</td>\n      <td>0</td>\n      <td>1</td>\n      <td>45</td>\n    </tr>\n    <tr>\n      <th>7</th>\n      <td>1</td>\n      <td>dragonball</td>\n      <td>2</td>\n      <td>0</td>\n      <td>9</td>\n      <td>39</td>\n      <td>2</td>\n      <td>0</td>\n      <td>8</td>\n      <td>31</td>\n      <td>4</td>\n      <td>1</td>\n      <td>6</td>\n      <td>35</td>\n      <td>3</td>\n      <td>3</td>\n      <td>4</td>\n      <td>34</td>\n    </tr>\n    <tr>\n      <th>8</th>\n      <td>1</td>\n      <td>dragonball</td>\n      <td>4</td>\n      <td>2</td>\n      <td>2</td>\n      <td>51</td>\n      <td>1</td>\n      <td>2</td>\n      <td>8</td>\n      <td>44</td>\n      <td>1</td>\n      <td>3</td>\n      <td>6</td>\n      <td>53</td>\n      <td>2</td>\n      <td>3</td>\n      <td>5</td>\n      <td>33</td>\n    </tr>\n    <tr>\n      <th>9</th>\n      <td>1</td>\n      <td>dragonball</td>\n      <td>2</td>\n      <td>1</td>\n      <td>4</td>\n      <td>46</td>\n      <td>2</td>\n      <td>3</td>\n      <td>4</td>\n      <td>56</td>\n      <td>3</td>\n      <td>1</td>\n      <td>7</td>\n      <td>30</td>\n      <td>1</td>\n      <td>2</td>\n      <td>9</td>\n      <td>35</td>\n    </tr>\n    <tr>\n      <th>10</th>\n      <td>1</td>\n      <td>dragonball</td>\n      <td>4</td>\n      <td>1</td>\n      <td>9</td>\n      <td>58</td>\n      <td>0</td>\n      <td>1</td>\n      <td>5</td>\n      <td>31</td>\n      <td>1</td>\n      <td>3</td>\n      <td>7</td>\n      <td>47</td>\n      <td>0</td>\n      <td>0</td>\n      <td>7</td>\n      <td>54</td>\n    </tr>\n    <tr>\n      <th>11</th>\n      <td>1</td>\n      <td>dragonball</td>\n      <td>3</td>\n      <td>3</td>\n      <td>1</td>\n      <td>50</td>\n      <td>3</td>\n      <td>1</td>\n      <td>8</td>\n      <td>33</td>\n      <td>3</td>\n      <td>0</td>\n      <td>7</td>\n      <td>34</td>\n      <td>0</td>\n      <td>2</td>\n      <td>7</td>\n      <td>31</td>\n    </tr>\n  </tbody>\n</table>\n</div>"
     },
     "metadata": {},
     "execution_count": 78
    }
   ],
   "source": [
    "# Agrupamos para juntar la información de una combinación (i,j,t) en una sola (juntar los 4 animé en una sola fila y con la elección como categórica)\n",
    "\n",
    "# Tupla\n",
    "tupla = ['Expertos', 'Capitulos'] # El animé es parte de la eleecion\n",
    "\n",
    "# Atributos a agrupar en una sola fila por eleccion \n",
    "atributos_eleccion = ['Combat', 'Emotion', 'Qual', 'Duration']\n",
    "\n",
    "# Animes\n",
    "animes = ['hunterX', 'dragonball', 'naruto', 'bnha']\n",
    "\n",
    "# Grop by según tupla\n",
    "gb = df_homogeneo.groupby(tupla)\n",
    "\n",
    "# Creamos una copia donde vamos a guardar el resultado final\n",
    "df_homogeneo_agrupado = df_homogeneo.copy()\n",
    "\n",
    "# Eliminamos las filas donde no hay eleccion\n",
    "df_homogeneo_agrupado = df_homogeneo_agrupado[df_homogeneo_agrupado['Eleccion'] > 0].reset_index()\n",
    "\n",
    "# Eliminamos las columnas que agrupamos\n",
    "df_homogeneo_agrupado.drop(columns=atributos_eleccion, inplace=True)\n",
    "\n",
    "# Recorro cada anime y veo si calza con el original\n",
    "for i in range(4):\n",
    "\n",
    "    # Recorro cada atributo a renombrar\n",
    "    for atr in atributos_eleccion:\n",
    "\n",
    "        # Agrego el atributo renombrado al dataframe\n",
    "        df_homogeneo_agrupado[f'{atr}.{animes[i]}'] = 0\n",
    "        df_homogeneo_agrupado[f'{atr}.{animes[i]}'] = gb.nth(i).reset_index()[atr]\n",
    "\n",
    "    # Renombramos también la columna de Eleccion\n",
    "    df_homogeneo_agrupado.loc[ df_homogeneo_agrupado['Eleccion'] == i+1, 'Eleccion' ] = animes[i]\n",
    "\n",
    "# Eliminamos la columna de indice vieja y los indices de la tupla\n",
    "df_homogeneo_agrupado.drop(columns=['index', 'Expertos', 'Capitulos'], inplace=True)\n",
    "\n",
    "# # Renombramos la columna de elección\n",
    "# for i in range\n",
    "# df_homogeneo_agrupado['Eleccion']\n",
    "\n",
    "# Aliminamos las \n",
    "df_homogeneo_agrupado.head(12)"
   ]
  },
  {
   "cell_type": "code",
   "execution_count": 79,
   "metadata": {},
   "outputs": [
    {
     "output_type": "execute_result",
     "data": {
      "text/plain": [
       "   Mujer    Eleccion  Combat.hunterX  Emotion.hunterX  Qual.hunterX  \\\n",
       "0      1  dragonball        2.195122         1.463415             4   \n",
       "1      1      naruto        2.033898         0.508475             7   \n",
       "2      1  dragonball        1.333333         0.666667             2   \n",
       "3      1  dragonball        2.307692         0.769231             7   \n",
       "4      1  dragonball        0.652174         0.652174             6   \n",
       "\n",
       "   Combat.dragonball  Emotion.dragonball  Qual.dragonball  Combat.naruto  \\\n",
       "0           2.222222            0.555556                7       1.000000   \n",
       "1           3.750000            2.812500                6       1.363636   \n",
       "2           1.764706            1.764706                4       0.652174   \n",
       "3           2.068966            1.034483                6       2.812500   \n",
       "4           3.076923            1.538462                7       1.607143   \n",
       "\n",
       "   Emotion.naruto  Qual.naruto  Combat.bnha  Emotion.bnha  Qual.bnha  \n",
       "0        0.000000            2     1.132075      0.566038          8  \n",
       "1        2.045455            3     3.428571      1.714286          4  \n",
       "2        1.304348            1     1.250000      0.625000          6  \n",
       "3        0.000000            8     1.111111      1.111111          8  \n",
       "4        0.000000            9     0.600000      1.200000          2  "
      ],
      "text/html": "<div>\n<style scoped>\n    .dataframe tbody tr th:only-of-type {\n        vertical-align: middle;\n    }\n\n    .dataframe tbody tr th {\n        vertical-align: top;\n    }\n\n    .dataframe thead th {\n        text-align: right;\n    }\n</style>\n<table border=\"1\" class=\"dataframe\">\n  <thead>\n    <tr style=\"text-align: right;\">\n      <th></th>\n      <th>Mujer</th>\n      <th>Eleccion</th>\n      <th>Combat.hunterX</th>\n      <th>Emotion.hunterX</th>\n      <th>Qual.hunterX</th>\n      <th>Combat.dragonball</th>\n      <th>Emotion.dragonball</th>\n      <th>Qual.dragonball</th>\n      <th>Combat.naruto</th>\n      <th>Emotion.naruto</th>\n      <th>Qual.naruto</th>\n      <th>Combat.bnha</th>\n      <th>Emotion.bnha</th>\n      <th>Qual.bnha</th>\n    </tr>\n  </thead>\n  <tbody>\n    <tr>\n      <th>0</th>\n      <td>1</td>\n      <td>dragonball</td>\n      <td>2.195122</td>\n      <td>1.463415</td>\n      <td>4</td>\n      <td>2.222222</td>\n      <td>0.555556</td>\n      <td>7</td>\n      <td>1.000000</td>\n      <td>0.000000</td>\n      <td>2</td>\n      <td>1.132075</td>\n      <td>0.566038</td>\n      <td>8</td>\n    </tr>\n    <tr>\n      <th>1</th>\n      <td>1</td>\n      <td>naruto</td>\n      <td>2.033898</td>\n      <td>0.508475</td>\n      <td>7</td>\n      <td>3.750000</td>\n      <td>2.812500</td>\n      <td>6</td>\n      <td>1.363636</td>\n      <td>2.045455</td>\n      <td>3</td>\n      <td>3.428571</td>\n      <td>1.714286</td>\n      <td>4</td>\n    </tr>\n    <tr>\n      <th>2</th>\n      <td>1</td>\n      <td>dragonball</td>\n      <td>1.333333</td>\n      <td>0.666667</td>\n      <td>2</td>\n      <td>1.764706</td>\n      <td>1.764706</td>\n      <td>4</td>\n      <td>0.652174</td>\n      <td>1.304348</td>\n      <td>1</td>\n      <td>1.250000</td>\n      <td>0.625000</td>\n      <td>6</td>\n    </tr>\n    <tr>\n      <th>3</th>\n      <td>1</td>\n      <td>dragonball</td>\n      <td>2.307692</td>\n      <td>0.769231</td>\n      <td>7</td>\n      <td>2.068966</td>\n      <td>1.034483</td>\n      <td>6</td>\n      <td>2.812500</td>\n      <td>0.000000</td>\n      <td>8</td>\n      <td>1.111111</td>\n      <td>1.111111</td>\n      <td>8</td>\n    </tr>\n    <tr>\n      <th>4</th>\n      <td>1</td>\n      <td>dragonball</td>\n      <td>0.652174</td>\n      <td>0.652174</td>\n      <td>6</td>\n      <td>3.076923</td>\n      <td>1.538462</td>\n      <td>7</td>\n      <td>1.607143</td>\n      <td>0.000000</td>\n      <td>9</td>\n      <td>0.600000</td>\n      <td>1.200000</td>\n      <td>2</td>\n    </tr>\n  </tbody>\n</table>\n</div>"
     },
     "metadata": {},
     "execution_count": 79
    }
   ],
   "source": [
    "# Tasa de Emotion\n",
    "df_homogeneo_agrupado[[f'Emotion.{anime}' for anime in animes]] = 30*df_homogeneo_agrupado[[f'Emotion.{anime}' for anime in animes]].to_numpy() / df_homogeneo_agrupado[[f'Duration.{anime}' for anime in animes]].to_numpy()\n",
    "\n",
    "# Tasa de Combat\n",
    "df_homogeneo_agrupado[[f'Combat.{anime}' for anime in animes]] = 30*df_homogeneo_agrupado[[f'Combat.{anime}' for anime in animes]].to_numpy() / df_homogeneo_agrupado[[f'Duration.{anime}' for anime in animes]].to_numpy()\n",
    "\n",
    "df_homogeneo_agrupado = df_homogeneo_agrupado.drop(columns=[f'Duration.{anime}' for anime in animes])\n",
    "df_homogeneo_agrupado.head()"
   ]
  },
  {
   "cell_type": "code",
   "execution_count": 80,
   "metadata": {},
   "outputs": [
    {
     "output_type": "execute_result",
     "data": {
      "text/plain": [
       "       Mujer    Eleccion  Combat.hunterX  Emotion.hunterX  Qual.hunterX  \\\n",
       "0          1  dragonball        2.195122         1.463415             4   \n",
       "1          1      naruto        2.033898         0.508475             7   \n",
       "2          1  dragonball        1.333333         0.666667             2   \n",
       "3          1  dragonball        2.307692         0.769231             7   \n",
       "4          1  dragonball        0.652174         0.652174             6   \n",
       "...      ...         ...             ...              ...           ...   \n",
       "11995      0     hunterX        1.538462         0.000000             9   \n",
       "11996      0     hunterX        2.352941         1.176471             2   \n",
       "11997      0     hunterX        1.304348         0.652174             4   \n",
       "11998      0     hunterX        2.068966         0.517241             9   \n",
       "11999      0     hunterX        1.800000         1.800000             1   \n",
       "\n",
       "       Combat.dragonball  Emotion.dragonball  Qual.dragonball  Combat.naruto  \\\n",
       "0               2.222222            0.555556                7       1.000000   \n",
       "1               3.750000            2.812500                6       1.363636   \n",
       "2               1.764706            1.764706                4       0.652174   \n",
       "3               2.068966            1.034483                6       2.812500   \n",
       "4               3.076923            1.538462                7       1.607143   \n",
       "...                  ...                 ...              ...            ...   \n",
       "11995           1.935484            0.000000                8       3.428571   \n",
       "11996           0.681818            1.363636                8       0.566038   \n",
       "11997           1.071429            1.607143                4       3.000000   \n",
       "11998           0.000000            0.967742                5       0.638298   \n",
       "11999           2.727273            0.909091                8       2.647059   \n",
       "\n",
       "       Emotion.naruto  Qual.naruto  Combat.bnha  Emotion.bnha  Qual.bnha  \n",
       "0            0.000000            2     1.132075      0.566038          8  \n",
       "1            2.045455            3     3.428571      1.714286          4  \n",
       "2            1.304348            1     1.250000      0.625000          6  \n",
       "3            0.000000            8     1.111111      1.111111          8  \n",
       "4            0.000000            9     0.600000      1.200000          2  \n",
       "...               ...          ...          ...           ...        ...  \n",
       "11995        0.857143            6     2.647059      2.647059          4  \n",
       "11996        1.698113            6     1.818182      2.727273          5  \n",
       "11997        1.000000            7     0.857143      1.714286          9  \n",
       "11998        1.914894            7     0.000000      0.000000          7  \n",
       "11999        0.000000            7     0.000000      1.935484          7  \n",
       "\n",
       "[12000 rows x 14 columns]"
      ],
      "text/html": "<div>\n<style scoped>\n    .dataframe tbody tr th:only-of-type {\n        vertical-align: middle;\n    }\n\n    .dataframe tbody tr th {\n        vertical-align: top;\n    }\n\n    .dataframe thead th {\n        text-align: right;\n    }\n</style>\n<table border=\"1\" class=\"dataframe\">\n  <thead>\n    <tr style=\"text-align: right;\">\n      <th></th>\n      <th>Mujer</th>\n      <th>Eleccion</th>\n      <th>Combat.hunterX</th>\n      <th>Emotion.hunterX</th>\n      <th>Qual.hunterX</th>\n      <th>Combat.dragonball</th>\n      <th>Emotion.dragonball</th>\n      <th>Qual.dragonball</th>\n      <th>Combat.naruto</th>\n      <th>Emotion.naruto</th>\n      <th>Qual.naruto</th>\n      <th>Combat.bnha</th>\n      <th>Emotion.bnha</th>\n      <th>Qual.bnha</th>\n    </tr>\n  </thead>\n  <tbody>\n    <tr>\n      <th>0</th>\n      <td>1</td>\n      <td>dragonball</td>\n      <td>2.195122</td>\n      <td>1.463415</td>\n      <td>4</td>\n      <td>2.222222</td>\n      <td>0.555556</td>\n      <td>7</td>\n      <td>1.000000</td>\n      <td>0.000000</td>\n      <td>2</td>\n      <td>1.132075</td>\n      <td>0.566038</td>\n      <td>8</td>\n    </tr>\n    <tr>\n      <th>1</th>\n      <td>1</td>\n      <td>naruto</td>\n      <td>2.033898</td>\n      <td>0.508475</td>\n      <td>7</td>\n      <td>3.750000</td>\n      <td>2.812500</td>\n      <td>6</td>\n      <td>1.363636</td>\n      <td>2.045455</td>\n      <td>3</td>\n      <td>3.428571</td>\n      <td>1.714286</td>\n      <td>4</td>\n    </tr>\n    <tr>\n      <th>2</th>\n      <td>1</td>\n      <td>dragonball</td>\n      <td>1.333333</td>\n      <td>0.666667</td>\n      <td>2</td>\n      <td>1.764706</td>\n      <td>1.764706</td>\n      <td>4</td>\n      <td>0.652174</td>\n      <td>1.304348</td>\n      <td>1</td>\n      <td>1.250000</td>\n      <td>0.625000</td>\n      <td>6</td>\n    </tr>\n    <tr>\n      <th>3</th>\n      <td>1</td>\n      <td>dragonball</td>\n      <td>2.307692</td>\n      <td>0.769231</td>\n      <td>7</td>\n      <td>2.068966</td>\n      <td>1.034483</td>\n      <td>6</td>\n      <td>2.812500</td>\n      <td>0.000000</td>\n      <td>8</td>\n      <td>1.111111</td>\n      <td>1.111111</td>\n      <td>8</td>\n    </tr>\n    <tr>\n      <th>4</th>\n      <td>1</td>\n      <td>dragonball</td>\n      <td>0.652174</td>\n      <td>0.652174</td>\n      <td>6</td>\n      <td>3.076923</td>\n      <td>1.538462</td>\n      <td>7</td>\n      <td>1.607143</td>\n      <td>0.000000</td>\n      <td>9</td>\n      <td>0.600000</td>\n      <td>1.200000</td>\n      <td>2</td>\n    </tr>\n    <tr>\n      <th>...</th>\n      <td>...</td>\n      <td>...</td>\n      <td>...</td>\n      <td>...</td>\n      <td>...</td>\n      <td>...</td>\n      <td>...</td>\n      <td>...</td>\n      <td>...</td>\n      <td>...</td>\n      <td>...</td>\n      <td>...</td>\n      <td>...</td>\n      <td>...</td>\n    </tr>\n    <tr>\n      <th>11995</th>\n      <td>0</td>\n      <td>hunterX</td>\n      <td>1.538462</td>\n      <td>0.000000</td>\n      <td>9</td>\n      <td>1.935484</td>\n      <td>0.000000</td>\n      <td>8</td>\n      <td>3.428571</td>\n      <td>0.857143</td>\n      <td>6</td>\n      <td>2.647059</td>\n      <td>2.647059</td>\n      <td>4</td>\n    </tr>\n    <tr>\n      <th>11996</th>\n      <td>0</td>\n      <td>hunterX</td>\n      <td>2.352941</td>\n      <td>1.176471</td>\n      <td>2</td>\n      <td>0.681818</td>\n      <td>1.363636</td>\n      <td>8</td>\n      <td>0.566038</td>\n      <td>1.698113</td>\n      <td>6</td>\n      <td>1.818182</td>\n      <td>2.727273</td>\n      <td>5</td>\n    </tr>\n    <tr>\n      <th>11997</th>\n      <td>0</td>\n      <td>hunterX</td>\n      <td>1.304348</td>\n      <td>0.652174</td>\n      <td>4</td>\n      <td>1.071429</td>\n      <td>1.607143</td>\n      <td>4</td>\n      <td>3.000000</td>\n      <td>1.000000</td>\n      <td>7</td>\n      <td>0.857143</td>\n      <td>1.714286</td>\n      <td>9</td>\n    </tr>\n    <tr>\n      <th>11998</th>\n      <td>0</td>\n      <td>hunterX</td>\n      <td>2.068966</td>\n      <td>0.517241</td>\n      <td>9</td>\n      <td>0.000000</td>\n      <td>0.967742</td>\n      <td>5</td>\n      <td>0.638298</td>\n      <td>1.914894</td>\n      <td>7</td>\n      <td>0.000000</td>\n      <td>0.000000</td>\n      <td>7</td>\n    </tr>\n    <tr>\n      <th>11999</th>\n      <td>0</td>\n      <td>hunterX</td>\n      <td>1.800000</td>\n      <td>1.800000</td>\n      <td>1</td>\n      <td>2.727273</td>\n      <td>0.909091</td>\n      <td>8</td>\n      <td>2.647059</td>\n      <td>0.000000</td>\n      <td>7</td>\n      <td>0.000000</td>\n      <td>1.935484</td>\n      <td>7</td>\n    </tr>\n  </tbody>\n</table>\n<p>12000 rows × 14 columns</p>\n</div>"
     },
     "metadata": {},
     "execution_count": 80
    }
   ],
   "source": [
    "df_homogeneo_agrupado"
   ]
  },
  {
   "cell_type": "code",
   "execution_count": 81,
   "metadata": {},
   "outputs": [],
   "source": [
    "# Guardemos el dataset para correr los modelos en R\n",
    "df_homogeneo_agrupado.to_csv('./Dataset/Anime2_Logit.csv', index=False)"
   ]
  }
 ]
}