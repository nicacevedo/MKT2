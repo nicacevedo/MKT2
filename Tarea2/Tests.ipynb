{
 "metadata": {
  "language_info": {
   "codemirror_mode": {
    "name": "ipython",
    "version": 3
   },
   "file_extension": ".py",
   "mimetype": "text/x-python",
   "name": "python",
   "nbconvert_exporter": "python",
   "pygments_lexer": "ipython3",
   "version": "3.8.5"
  },
  "orig_nbformat": 2,
  "kernelspec": {
   "name": "python385jvsc74a57bd0916dbcbb3f70747c44a77c7bcd40155683ae19c65e1c03b4aa3499c5328201f1",
   "display_name": "Python 3.8.5 64-bit"
  },
  "metadata": {
   "interpreter": {
    "hash": "916dbcbb3f70747c44a77c7bcd40155683ae19c65e1c03b4aa3499c5328201f1"
   }
  }
 },
 "nbformat": 4,
 "nbformat_minor": 2,
 "cells": [
  {
   "cell_type": "code",
   "execution_count": 64,
   "metadata": {},
   "outputs": [],
   "source": [
    "## Liberías\n",
    "\n",
    "# Clásicas de análisis de datos\n",
    "import pandas as pd \n",
    "import numpy as np\n",
    "import matplotlib.pyplot as plt\n",
    "\n",
    "# Librerías de ML\n",
    "from sklearn.linear_model import LogisticRegression\n",
    "from sklearn.model_selection import train_test_split\n",
    "\n",
    "# Métricas de modelos\n",
    "from sklearn.metrics import confusion_matrix"
   ]
  },
  {
   "cell_type": "code",
   "execution_count": 65,
   "metadata": {},
   "outputs": [
    {
     "output_type": "execute_result",
     "data": {
      "text/plain": [
       "       Expertos  Capitulos  Animes  Edad  Mujer  CantCaps  Scoremyanimelist  \\\n",
       "1.1.1         1          1       1    42      1       575               8.0   \n",
       "1.1.2         1          1       2    42      1       720               6.5   \n",
       "1.1.3         1          1       3    42      1       148              10.0   \n",
       "1.1.4         1          1       4    42      1       113               4.0   \n",
       "1.2.1         1          2       1    42      1       575               8.0   \n",
       "1.2.2         1          2       2    42      1       720               6.5   \n",
       "1.2.3         1          2       3    42      1       148              10.0   \n",
       "1.2.4         1          2       4    42      1       113               4.0   \n",
       "1.3.1         1          3       1    42      1       575               8.0   \n",
       "1.3.2         1          3       2    42      1       720               6.5   \n",
       "\n",
       "       NEscenasCombate  NescenasEmocionantes  CalidadAnimacion  \\\n",
       "1.1.1                3                     2                 4   \n",
       "1.1.2                4                     1                 7   \n",
       "1.1.3                1                     0                 2   \n",
       "1.1.4                2                     1                 8   \n",
       "1.2.1                4                     1                 7   \n",
       "1.2.2                4                     3                 6   \n",
       "1.2.3                2                     3                 3   \n",
       "1.2.4                4                     2                 4   \n",
       "1.3.1                2                     1                 2   \n",
       "1.3.2                2                     2                 4   \n",
       "\n",
       "       DuracionCapituloMin  RatingTV  Eleccion  \n",
       "1.1.1                   41        13         0  \n",
       "1.1.2                   54        27         1  \n",
       "1.1.3                   30        20         0  \n",
       "1.1.4                   53        15         0  \n",
       "1.2.1                   59        25         0  \n",
       "1.2.2                   32        19         0  \n",
       "1.2.3                   44        38         1  \n",
       "1.2.4                   35        37         0  \n",
       "1.3.1                   45        29         0  \n",
       "1.3.2                   34        32         1  "
      ],
      "text/html": "<div>\n<style scoped>\n    .dataframe tbody tr th:only-of-type {\n        vertical-align: middle;\n    }\n\n    .dataframe tbody tr th {\n        vertical-align: top;\n    }\n\n    .dataframe thead th {\n        text-align: right;\n    }\n</style>\n<table border=\"1\" class=\"dataframe\">\n  <thead>\n    <tr style=\"text-align: right;\">\n      <th></th>\n      <th>Expertos</th>\n      <th>Capitulos</th>\n      <th>Animes</th>\n      <th>Edad</th>\n      <th>Mujer</th>\n      <th>CantCaps</th>\n      <th>Scoremyanimelist</th>\n      <th>NEscenasCombate</th>\n      <th>NescenasEmocionantes</th>\n      <th>CalidadAnimacion</th>\n      <th>DuracionCapituloMin</th>\n      <th>RatingTV</th>\n      <th>Eleccion</th>\n    </tr>\n  </thead>\n  <tbody>\n    <tr>\n      <th>1.1.1</th>\n      <td>1</td>\n      <td>1</td>\n      <td>1</td>\n      <td>42</td>\n      <td>1</td>\n      <td>575</td>\n      <td>8.0</td>\n      <td>3</td>\n      <td>2</td>\n      <td>4</td>\n      <td>41</td>\n      <td>13</td>\n      <td>0</td>\n    </tr>\n    <tr>\n      <th>1.1.2</th>\n      <td>1</td>\n      <td>1</td>\n      <td>2</td>\n      <td>42</td>\n      <td>1</td>\n      <td>720</td>\n      <td>6.5</td>\n      <td>4</td>\n      <td>1</td>\n      <td>7</td>\n      <td>54</td>\n      <td>27</td>\n      <td>1</td>\n    </tr>\n    <tr>\n      <th>1.1.3</th>\n      <td>1</td>\n      <td>1</td>\n      <td>3</td>\n      <td>42</td>\n      <td>1</td>\n      <td>148</td>\n      <td>10.0</td>\n      <td>1</td>\n      <td>0</td>\n      <td>2</td>\n      <td>30</td>\n      <td>20</td>\n      <td>0</td>\n    </tr>\n    <tr>\n      <th>1.1.4</th>\n      <td>1</td>\n      <td>1</td>\n      <td>4</td>\n      <td>42</td>\n      <td>1</td>\n      <td>113</td>\n      <td>4.0</td>\n      <td>2</td>\n      <td>1</td>\n      <td>8</td>\n      <td>53</td>\n      <td>15</td>\n      <td>0</td>\n    </tr>\n    <tr>\n      <th>1.2.1</th>\n      <td>1</td>\n      <td>2</td>\n      <td>1</td>\n      <td>42</td>\n      <td>1</td>\n      <td>575</td>\n      <td>8.0</td>\n      <td>4</td>\n      <td>1</td>\n      <td>7</td>\n      <td>59</td>\n      <td>25</td>\n      <td>0</td>\n    </tr>\n    <tr>\n      <th>1.2.2</th>\n      <td>1</td>\n      <td>2</td>\n      <td>2</td>\n      <td>42</td>\n      <td>1</td>\n      <td>720</td>\n      <td>6.5</td>\n      <td>4</td>\n      <td>3</td>\n      <td>6</td>\n      <td>32</td>\n      <td>19</td>\n      <td>0</td>\n    </tr>\n    <tr>\n      <th>1.2.3</th>\n      <td>1</td>\n      <td>2</td>\n      <td>3</td>\n      <td>42</td>\n      <td>1</td>\n      <td>148</td>\n      <td>10.0</td>\n      <td>2</td>\n      <td>3</td>\n      <td>3</td>\n      <td>44</td>\n      <td>38</td>\n      <td>1</td>\n    </tr>\n    <tr>\n      <th>1.2.4</th>\n      <td>1</td>\n      <td>2</td>\n      <td>4</td>\n      <td>42</td>\n      <td>1</td>\n      <td>113</td>\n      <td>4.0</td>\n      <td>4</td>\n      <td>2</td>\n      <td>4</td>\n      <td>35</td>\n      <td>37</td>\n      <td>0</td>\n    </tr>\n    <tr>\n      <th>1.3.1</th>\n      <td>1</td>\n      <td>3</td>\n      <td>1</td>\n      <td>42</td>\n      <td>1</td>\n      <td>575</td>\n      <td>8.0</td>\n      <td>2</td>\n      <td>1</td>\n      <td>2</td>\n      <td>45</td>\n      <td>29</td>\n      <td>0</td>\n    </tr>\n    <tr>\n      <th>1.3.2</th>\n      <td>1</td>\n      <td>3</td>\n      <td>2</td>\n      <td>42</td>\n      <td>1</td>\n      <td>720</td>\n      <td>6.5</td>\n      <td>2</td>\n      <td>2</td>\n      <td>4</td>\n      <td>34</td>\n      <td>32</td>\n      <td>1</td>\n    </tr>\n  </tbody>\n</table>\n</div>"
     },
     "metadata": {},
     "execution_count": 65
    }
   ],
   "source": [
    "# Dataset Original\n",
    "df = pd.read_csv('./Dataset/Anime2.csv', index_col=0)\n",
    "df.head(10)"
   ]
  },
  {
   "cell_type": "code",
   "execution_count": 66,
   "metadata": {},
   "outputs": [
    {
     "output_type": "execute_result",
     "data": {
      "text/plain": [
       "       Expertos  Capitulos  Animes  Edad  Mujer  Caps  Score  Combat  Emotion  \\\n",
       "1.1.1         1          1       1    42      1   575    8.0       3        2   \n",
       "1.1.2         1          1       2    42      1   720    6.5       4        1   \n",
       "1.1.3         1          1       3    42      1   148   10.0       1        0   \n",
       "1.1.4         1          1       4    42      1   113    4.0       2        1   \n",
       "1.2.1         1          2       1    42      1   575    8.0       4        1   \n",
       "\n",
       "       Qual  Duration  Rating  Eleccion  \n",
       "1.1.1     4        41      13         0  \n",
       "1.1.2     7        54      27         1  \n",
       "1.1.3     2        30      20         0  \n",
       "1.1.4     8        53      15         0  \n",
       "1.2.1     7        59      25         0  "
      ],
      "text/html": "<div>\n<style scoped>\n    .dataframe tbody tr th:only-of-type {\n        vertical-align: middle;\n    }\n\n    .dataframe tbody tr th {\n        vertical-align: top;\n    }\n\n    .dataframe thead th {\n        text-align: right;\n    }\n</style>\n<table border=\"1\" class=\"dataframe\">\n  <thead>\n    <tr style=\"text-align: right;\">\n      <th></th>\n      <th>Expertos</th>\n      <th>Capitulos</th>\n      <th>Animes</th>\n      <th>Edad</th>\n      <th>Mujer</th>\n      <th>Caps</th>\n      <th>Score</th>\n      <th>Combat</th>\n      <th>Emotion</th>\n      <th>Qual</th>\n      <th>Duration</th>\n      <th>Rating</th>\n      <th>Eleccion</th>\n    </tr>\n  </thead>\n  <tbody>\n    <tr>\n      <th>1.1.1</th>\n      <td>1</td>\n      <td>1</td>\n      <td>1</td>\n      <td>42</td>\n      <td>1</td>\n      <td>575</td>\n      <td>8.0</td>\n      <td>3</td>\n      <td>2</td>\n      <td>4</td>\n      <td>41</td>\n      <td>13</td>\n      <td>0</td>\n    </tr>\n    <tr>\n      <th>1.1.2</th>\n      <td>1</td>\n      <td>1</td>\n      <td>2</td>\n      <td>42</td>\n      <td>1</td>\n      <td>720</td>\n      <td>6.5</td>\n      <td>4</td>\n      <td>1</td>\n      <td>7</td>\n      <td>54</td>\n      <td>27</td>\n      <td>1</td>\n    </tr>\n    <tr>\n      <th>1.1.3</th>\n      <td>1</td>\n      <td>1</td>\n      <td>3</td>\n      <td>42</td>\n      <td>1</td>\n      <td>148</td>\n      <td>10.0</td>\n      <td>1</td>\n      <td>0</td>\n      <td>2</td>\n      <td>30</td>\n      <td>20</td>\n      <td>0</td>\n    </tr>\n    <tr>\n      <th>1.1.4</th>\n      <td>1</td>\n      <td>1</td>\n      <td>4</td>\n      <td>42</td>\n      <td>1</td>\n      <td>113</td>\n      <td>4.0</td>\n      <td>2</td>\n      <td>1</td>\n      <td>8</td>\n      <td>53</td>\n      <td>15</td>\n      <td>0</td>\n    </tr>\n    <tr>\n      <th>1.2.1</th>\n      <td>1</td>\n      <td>2</td>\n      <td>1</td>\n      <td>42</td>\n      <td>1</td>\n      <td>575</td>\n      <td>8.0</td>\n      <td>4</td>\n      <td>1</td>\n      <td>7</td>\n      <td>59</td>\n      <td>25</td>\n      <td>0</td>\n    </tr>\n  </tbody>\n</table>\n</div>"
     },
     "metadata": {},
     "execution_count": 66
    }
   ],
   "source": [
    "# Cambiamos el nombre de algunas columnas para facilitar la vida\n",
    "\n",
    "# Atributos a agrupar en una sola fila por eleccion \n",
    "cambio_nombre = {'NEscenasCombate':'Combat', 'NescenasEmocionantes':'Emotion', 'CalidadAnimacion':'Qual', 'DuracionCapituloMin':'Duration', 'RatingTV':'Rating', 'CantCaps':'Caps', 'Scoremyanimelist':'Score'}\n",
    "\n",
    "# Cambio de nombre\n",
    "df.rename(cambio_nombre, axis=1, inplace=True)\n",
    "\n",
    "df.head()"
   ]
  },
  {
   "source": [
    "### Homogéneo\n",
    "\n",
    "Formato de clases (Previo a Wide)"
   ],
   "cell_type": "markdown",
   "metadata": {}
  },
  {
   "cell_type": "code",
   "execution_count": 67,
   "metadata": {},
   "outputs": [
    {
     "output_type": "execute_result",
     "data": {
      "text/plain": [
       "       Expertos  Capitulos  Edad  Mujer  Caps  Score  Combat  Emotion  Qual  \\\n",
       "1.1.1         1          1    42      1   575    8.0       3        2     4   \n",
       "1.1.2         1          1    42      1   720    6.5       4        1     7   \n",
       "1.1.3         1          1    42      1   148   10.0       1        0     2   \n",
       "1.1.4         1          1    42      1   113    4.0       2        1     8   \n",
       "1.2.1         1          2    42      1   575    8.0       4        1     7   \n",
       "1.2.2         1          2    42      1   720    6.5       4        3     6   \n",
       "1.2.3         1          2    42      1   148   10.0       2        3     3   \n",
       "1.2.4         1          2    42      1   113    4.0       4        2     4   \n",
       "1.3.1         1          3    42      1   575    8.0       2        1     2   \n",
       "1.3.2         1          3    42      1   720    6.5       2        2     4   \n",
       "1.3.3         1          3    42      1   148   10.0       1        2     1   \n",
       "1.3.4         1          3    42      1   113    4.0       2        1     6   \n",
       "\n",
       "       Duration  Rating  Eleccion  \n",
       "1.1.1        41      13         0  \n",
       "1.1.2        54      27         2  \n",
       "1.1.3        30      20         0  \n",
       "1.1.4        53      15         0  \n",
       "1.2.1        59      25         0  \n",
       "1.2.2        32      19         0  \n",
       "1.2.3        44      38         3  \n",
       "1.2.4        35      37         0  \n",
       "1.3.1        45      29         0  \n",
       "1.3.2        34      32         2  \n",
       "1.3.3        46      35         0  \n",
       "1.3.4        48      23         0  "
      ],
      "text/html": "<div>\n<style scoped>\n    .dataframe tbody tr th:only-of-type {\n        vertical-align: middle;\n    }\n\n    .dataframe tbody tr th {\n        vertical-align: top;\n    }\n\n    .dataframe thead th {\n        text-align: right;\n    }\n</style>\n<table border=\"1\" class=\"dataframe\">\n  <thead>\n    <tr style=\"text-align: right;\">\n      <th></th>\n      <th>Expertos</th>\n      <th>Capitulos</th>\n      <th>Edad</th>\n      <th>Mujer</th>\n      <th>Caps</th>\n      <th>Score</th>\n      <th>Combat</th>\n      <th>Emotion</th>\n      <th>Qual</th>\n      <th>Duration</th>\n      <th>Rating</th>\n      <th>Eleccion</th>\n    </tr>\n  </thead>\n  <tbody>\n    <tr>\n      <th>1.1.1</th>\n      <td>1</td>\n      <td>1</td>\n      <td>42</td>\n      <td>1</td>\n      <td>575</td>\n      <td>8.0</td>\n      <td>3</td>\n      <td>2</td>\n      <td>4</td>\n      <td>41</td>\n      <td>13</td>\n      <td>0</td>\n    </tr>\n    <tr>\n      <th>1.1.2</th>\n      <td>1</td>\n      <td>1</td>\n      <td>42</td>\n      <td>1</td>\n      <td>720</td>\n      <td>6.5</td>\n      <td>4</td>\n      <td>1</td>\n      <td>7</td>\n      <td>54</td>\n      <td>27</td>\n      <td>2</td>\n    </tr>\n    <tr>\n      <th>1.1.3</th>\n      <td>1</td>\n      <td>1</td>\n      <td>42</td>\n      <td>1</td>\n      <td>148</td>\n      <td>10.0</td>\n      <td>1</td>\n      <td>0</td>\n      <td>2</td>\n      <td>30</td>\n      <td>20</td>\n      <td>0</td>\n    </tr>\n    <tr>\n      <th>1.1.4</th>\n      <td>1</td>\n      <td>1</td>\n      <td>42</td>\n      <td>1</td>\n      <td>113</td>\n      <td>4.0</td>\n      <td>2</td>\n      <td>1</td>\n      <td>8</td>\n      <td>53</td>\n      <td>15</td>\n      <td>0</td>\n    </tr>\n    <tr>\n      <th>1.2.1</th>\n      <td>1</td>\n      <td>2</td>\n      <td>42</td>\n      <td>1</td>\n      <td>575</td>\n      <td>8.0</td>\n      <td>4</td>\n      <td>1</td>\n      <td>7</td>\n      <td>59</td>\n      <td>25</td>\n      <td>0</td>\n    </tr>\n    <tr>\n      <th>1.2.2</th>\n      <td>1</td>\n      <td>2</td>\n      <td>42</td>\n      <td>1</td>\n      <td>720</td>\n      <td>6.5</td>\n      <td>4</td>\n      <td>3</td>\n      <td>6</td>\n      <td>32</td>\n      <td>19</td>\n      <td>0</td>\n    </tr>\n    <tr>\n      <th>1.2.3</th>\n      <td>1</td>\n      <td>2</td>\n      <td>42</td>\n      <td>1</td>\n      <td>148</td>\n      <td>10.0</td>\n      <td>2</td>\n      <td>3</td>\n      <td>3</td>\n      <td>44</td>\n      <td>38</td>\n      <td>3</td>\n    </tr>\n    <tr>\n      <th>1.2.4</th>\n      <td>1</td>\n      <td>2</td>\n      <td>42</td>\n      <td>1</td>\n      <td>113</td>\n      <td>4.0</td>\n      <td>4</td>\n      <td>2</td>\n      <td>4</td>\n      <td>35</td>\n      <td>37</td>\n      <td>0</td>\n    </tr>\n    <tr>\n      <th>1.3.1</th>\n      <td>1</td>\n      <td>3</td>\n      <td>42</td>\n      <td>1</td>\n      <td>575</td>\n      <td>8.0</td>\n      <td>2</td>\n      <td>1</td>\n      <td>2</td>\n      <td>45</td>\n      <td>29</td>\n      <td>0</td>\n    </tr>\n    <tr>\n      <th>1.3.2</th>\n      <td>1</td>\n      <td>3</td>\n      <td>42</td>\n      <td>1</td>\n      <td>720</td>\n      <td>6.5</td>\n      <td>2</td>\n      <td>2</td>\n      <td>4</td>\n      <td>34</td>\n      <td>32</td>\n      <td>2</td>\n    </tr>\n    <tr>\n      <th>1.3.3</th>\n      <td>1</td>\n      <td>3</td>\n      <td>42</td>\n      <td>1</td>\n      <td>148</td>\n      <td>10.0</td>\n      <td>1</td>\n      <td>2</td>\n      <td>1</td>\n      <td>46</td>\n      <td>35</td>\n      <td>0</td>\n    </tr>\n    <tr>\n      <th>1.3.4</th>\n      <td>1</td>\n      <td>3</td>\n      <td>42</td>\n      <td>1</td>\n      <td>113</td>\n      <td>4.0</td>\n      <td>2</td>\n      <td>1</td>\n      <td>6</td>\n      <td>48</td>\n      <td>23</td>\n      <td>0</td>\n    </tr>\n  </tbody>\n</table>\n</div>"
     },
     "metadata": {},
     "execution_count": 67
    }
   ],
   "source": [
    "# Dropeamos la columnas que no nos sirven para el análisis homogéneo\n",
    "# Expertos = indiv, capitulos = tiempo, anime = producto\n",
    "df_homogeneo = df.copy() #.drop(columns=['CantCaps', 'Scoremyanimelist'])\n",
    "\n",
    "# La elección la pasamos a categorías\n",
    "df_homogeneo['Eleccion'] = df_homogeneo['Eleccion'] * df_homogeneo['Animes']\n",
    "\n",
    "# Eliminamos anime que ya es parte de Eleccion\n",
    "df_homogeneo.drop('Animes', axis=1, inplace=True)\n",
    "\n",
    "df_homogeneo.head(12)"
   ]
  },
  {
   "cell_type": "code",
   "execution_count": 68,
   "metadata": {},
   "outputs": [
    {
     "output_type": "execute_result",
     "data": {
      "text/plain": [
       "    Edad  Mujer    Eleccion  Combat.hunterX  Emotion.hunterX  Qual.hunterX  \\\n",
       "0     42      1  dragonball               3                2             4   \n",
       "1     42      1      naruto               4                1             7   \n",
       "2     42      1  dragonball               2                1             2   \n",
       "3     42      1  dragonball               3                1             7   \n",
       "4     42      1  dragonball               1                1             6   \n",
       "5     42      1        bnha               4                2             6   \n",
       "6     42      1  dragonball               4                2             6   \n",
       "7     42      1  dragonball               2                0             9   \n",
       "8     42      1  dragonball               4                2             2   \n",
       "9     42      1  dragonball               2                1             4   \n",
       "10    42      1  dragonball               4                1             9   \n",
       "11    42      1  dragonball               3                3             1   \n",
       "\n",
       "    Duration.hunterX  Rating.hunterX  Caps.hunterX  Score.hunterX  ...  \\\n",
       "0                 41              13           575            8.0  ...   \n",
       "1                 59              25           575            8.0  ...   \n",
       "2                 45              29           575            8.0  ...   \n",
       "3                 39              16           575            8.0  ...   \n",
       "4                 46              33           575            8.0  ...   \n",
       "5                 55              24           575            8.0  ...   \n",
       "6                 31              22           575            8.0  ...   \n",
       "7                 39              27           575            8.0  ...   \n",
       "8                 51              13           575            8.0  ...   \n",
       "9                 46              35           575            8.0  ...   \n",
       "10                58              30           575            8.0  ...   \n",
       "11                50              11           575            8.0  ...   \n",
       "\n",
       "    Rating.naruto  Caps.naruto  Score.naruto  Combat.bnha  Emotion.bnha  \\\n",
       "0              20          148          10.0            2             1   \n",
       "1              38          148          10.0            4             2   \n",
       "2              35          148          10.0            2             1   \n",
       "3              23          148          10.0            2             2   \n",
       "4              13          148          10.0            1             2   \n",
       "5              24          148          10.0            0             0   \n",
       "6              21          148          10.0            2             0   \n",
       "7              12          148          10.0            3             3   \n",
       "8              34          148          10.0            2             3   \n",
       "9              39          148          10.0            1             2   \n",
       "10             35          148          10.0            0             0   \n",
       "11             20          148          10.0            0             2   \n",
       "\n",
       "    Qual.bnha  Duration.bnha  Rating.bnha  Caps.bnha  Score.bnha  \n",
       "0           8             53           15        113         4.0  \n",
       "1           4             35           37        113         4.0  \n",
       "2           6             48           23        113         4.0  \n",
       "3           8             54            6        113         4.0  \n",
       "4           2             50           12        113         4.0  \n",
       "5           9             59            5        113         4.0  \n",
       "6           1             45           11        113         4.0  \n",
       "7           4             34           25        113         4.0  \n",
       "8           5             33           35        113         4.0  \n",
       "9           9             35           28        113         4.0  \n",
       "10          7             54           11        113         4.0  \n",
       "11          7             31           26        113         4.0  \n",
       "\n",
       "[12 rows x 31 columns]"
      ],
      "text/html": "<div>\n<style scoped>\n    .dataframe tbody tr th:only-of-type {\n        vertical-align: middle;\n    }\n\n    .dataframe tbody tr th {\n        vertical-align: top;\n    }\n\n    .dataframe thead th {\n        text-align: right;\n    }\n</style>\n<table border=\"1\" class=\"dataframe\">\n  <thead>\n    <tr style=\"text-align: right;\">\n      <th></th>\n      <th>Edad</th>\n      <th>Mujer</th>\n      <th>Eleccion</th>\n      <th>Combat.hunterX</th>\n      <th>Emotion.hunterX</th>\n      <th>Qual.hunterX</th>\n      <th>Duration.hunterX</th>\n      <th>Rating.hunterX</th>\n      <th>Caps.hunterX</th>\n      <th>Score.hunterX</th>\n      <th>...</th>\n      <th>Rating.naruto</th>\n      <th>Caps.naruto</th>\n      <th>Score.naruto</th>\n      <th>Combat.bnha</th>\n      <th>Emotion.bnha</th>\n      <th>Qual.bnha</th>\n      <th>Duration.bnha</th>\n      <th>Rating.bnha</th>\n      <th>Caps.bnha</th>\n      <th>Score.bnha</th>\n    </tr>\n  </thead>\n  <tbody>\n    <tr>\n      <th>0</th>\n      <td>42</td>\n      <td>1</td>\n      <td>dragonball</td>\n      <td>3</td>\n      <td>2</td>\n      <td>4</td>\n      <td>41</td>\n      <td>13</td>\n      <td>575</td>\n      <td>8.0</td>\n      <td>...</td>\n      <td>20</td>\n      <td>148</td>\n      <td>10.0</td>\n      <td>2</td>\n      <td>1</td>\n      <td>8</td>\n      <td>53</td>\n      <td>15</td>\n      <td>113</td>\n      <td>4.0</td>\n    </tr>\n    <tr>\n      <th>1</th>\n      <td>42</td>\n      <td>1</td>\n      <td>naruto</td>\n      <td>4</td>\n      <td>1</td>\n      <td>7</td>\n      <td>59</td>\n      <td>25</td>\n      <td>575</td>\n      <td>8.0</td>\n      <td>...</td>\n      <td>38</td>\n      <td>148</td>\n      <td>10.0</td>\n      <td>4</td>\n      <td>2</td>\n      <td>4</td>\n      <td>35</td>\n      <td>37</td>\n      <td>113</td>\n      <td>4.0</td>\n    </tr>\n    <tr>\n      <th>2</th>\n      <td>42</td>\n      <td>1</td>\n      <td>dragonball</td>\n      <td>2</td>\n      <td>1</td>\n      <td>2</td>\n      <td>45</td>\n      <td>29</td>\n      <td>575</td>\n      <td>8.0</td>\n      <td>...</td>\n      <td>35</td>\n      <td>148</td>\n      <td>10.0</td>\n      <td>2</td>\n      <td>1</td>\n      <td>6</td>\n      <td>48</td>\n      <td>23</td>\n      <td>113</td>\n      <td>4.0</td>\n    </tr>\n    <tr>\n      <th>3</th>\n      <td>42</td>\n      <td>1</td>\n      <td>dragonball</td>\n      <td>3</td>\n      <td>1</td>\n      <td>7</td>\n      <td>39</td>\n      <td>16</td>\n      <td>575</td>\n      <td>8.0</td>\n      <td>...</td>\n      <td>23</td>\n      <td>148</td>\n      <td>10.0</td>\n      <td>2</td>\n      <td>2</td>\n      <td>8</td>\n      <td>54</td>\n      <td>6</td>\n      <td>113</td>\n      <td>4.0</td>\n    </tr>\n    <tr>\n      <th>4</th>\n      <td>42</td>\n      <td>1</td>\n      <td>dragonball</td>\n      <td>1</td>\n      <td>1</td>\n      <td>6</td>\n      <td>46</td>\n      <td>33</td>\n      <td>575</td>\n      <td>8.0</td>\n      <td>...</td>\n      <td>13</td>\n      <td>148</td>\n      <td>10.0</td>\n      <td>1</td>\n      <td>2</td>\n      <td>2</td>\n      <td>50</td>\n      <td>12</td>\n      <td>113</td>\n      <td>4.0</td>\n    </tr>\n    <tr>\n      <th>5</th>\n      <td>42</td>\n      <td>1</td>\n      <td>bnha</td>\n      <td>4</td>\n      <td>2</td>\n      <td>6</td>\n      <td>55</td>\n      <td>24</td>\n      <td>575</td>\n      <td>8.0</td>\n      <td>...</td>\n      <td>24</td>\n      <td>148</td>\n      <td>10.0</td>\n      <td>0</td>\n      <td>0</td>\n      <td>9</td>\n      <td>59</td>\n      <td>5</td>\n      <td>113</td>\n      <td>4.0</td>\n    </tr>\n    <tr>\n      <th>6</th>\n      <td>42</td>\n      <td>1</td>\n      <td>dragonball</td>\n      <td>4</td>\n      <td>2</td>\n      <td>6</td>\n      <td>31</td>\n      <td>22</td>\n      <td>575</td>\n      <td>8.0</td>\n      <td>...</td>\n      <td>21</td>\n      <td>148</td>\n      <td>10.0</td>\n      <td>2</td>\n      <td>0</td>\n      <td>1</td>\n      <td>45</td>\n      <td>11</td>\n      <td>113</td>\n      <td>4.0</td>\n    </tr>\n    <tr>\n      <th>7</th>\n      <td>42</td>\n      <td>1</td>\n      <td>dragonball</td>\n      <td>2</td>\n      <td>0</td>\n      <td>9</td>\n      <td>39</td>\n      <td>27</td>\n      <td>575</td>\n      <td>8.0</td>\n      <td>...</td>\n      <td>12</td>\n      <td>148</td>\n      <td>10.0</td>\n      <td>3</td>\n      <td>3</td>\n      <td>4</td>\n      <td>34</td>\n      <td>25</td>\n      <td>113</td>\n      <td>4.0</td>\n    </tr>\n    <tr>\n      <th>8</th>\n      <td>42</td>\n      <td>1</td>\n      <td>dragonball</td>\n      <td>4</td>\n      <td>2</td>\n      <td>2</td>\n      <td>51</td>\n      <td>13</td>\n      <td>575</td>\n      <td>8.0</td>\n      <td>...</td>\n      <td>34</td>\n      <td>148</td>\n      <td>10.0</td>\n      <td>2</td>\n      <td>3</td>\n      <td>5</td>\n      <td>33</td>\n      <td>35</td>\n      <td>113</td>\n      <td>4.0</td>\n    </tr>\n    <tr>\n      <th>9</th>\n      <td>42</td>\n      <td>1</td>\n      <td>dragonball</td>\n      <td>2</td>\n      <td>1</td>\n      <td>4</td>\n      <td>46</td>\n      <td>35</td>\n      <td>575</td>\n      <td>8.0</td>\n      <td>...</td>\n      <td>39</td>\n      <td>148</td>\n      <td>10.0</td>\n      <td>1</td>\n      <td>2</td>\n      <td>9</td>\n      <td>35</td>\n      <td>28</td>\n      <td>113</td>\n      <td>4.0</td>\n    </tr>\n    <tr>\n      <th>10</th>\n      <td>42</td>\n      <td>1</td>\n      <td>dragonball</td>\n      <td>4</td>\n      <td>1</td>\n      <td>9</td>\n      <td>58</td>\n      <td>30</td>\n      <td>575</td>\n      <td>8.0</td>\n      <td>...</td>\n      <td>35</td>\n      <td>148</td>\n      <td>10.0</td>\n      <td>0</td>\n      <td>0</td>\n      <td>7</td>\n      <td>54</td>\n      <td>11</td>\n      <td>113</td>\n      <td>4.0</td>\n    </tr>\n    <tr>\n      <th>11</th>\n      <td>42</td>\n      <td>1</td>\n      <td>dragonball</td>\n      <td>3</td>\n      <td>3</td>\n      <td>1</td>\n      <td>50</td>\n      <td>11</td>\n      <td>575</td>\n      <td>8.0</td>\n      <td>...</td>\n      <td>20</td>\n      <td>148</td>\n      <td>10.0</td>\n      <td>0</td>\n      <td>2</td>\n      <td>7</td>\n      <td>31</td>\n      <td>26</td>\n      <td>113</td>\n      <td>4.0</td>\n    </tr>\n  </tbody>\n</table>\n<p>12 rows × 31 columns</p>\n</div>"
     },
     "metadata": {},
     "execution_count": 68
    }
   ],
   "source": [
    "# Agrupamos para juntar la información de una combinación (i,j,t) en una sola (juntar los 4 animé en una sola fila y con la elección como categórica)\n",
    "\n",
    "# Tupla\n",
    "tupla = ['Expertos', 'Capitulos'] # El animé es parte de la eleecion\n",
    "\n",
    "# Atributos a agrupar en una sola fila por eleccion \n",
    "atributos_eleccion = ['Combat', 'Emotion', 'Qual', 'Duration', 'Rating', 'Caps', 'Score']\n",
    "\n",
    "# Animes\n",
    "animes = ['hunterX', 'dragonball', 'naruto', 'bnha']\n",
    "\n",
    "# Grop by según tupla\n",
    "gb = df_homogeneo.groupby(tupla)\n",
    "\n",
    "# Creamos una copia donde vamos a guardar el resultado final\n",
    "df_homogeneo_agrupado = df_homogeneo.copy()\n",
    "\n",
    "# Eliminamos las filas donde no hay eleccion\n",
    "df_homogeneo_agrupado = df_homogeneo_agrupado[df_homogeneo_agrupado['Eleccion'] > 0].reset_index()\n",
    "\n",
    "# Eliminamos las columnas que agrupamos\n",
    "df_homogeneo_agrupado.drop(columns=atributos_eleccion, inplace=True)\n",
    "\n",
    "# Recorro cada anime y veo si calza con el original\n",
    "for i in range(4):\n",
    "\n",
    "    # Recorro cada atributo a renombrar\n",
    "    for atr in atributos_eleccion:\n",
    "\n",
    "        # Agrego el atributo renombrado al dataframe\n",
    "        df_homogeneo_agrupado[f'{atr}.{animes[i]}'] = 0\n",
    "        df_homogeneo_agrupado[f'{atr}.{animes[i]}'] = gb.nth(i).reset_index()[atr]\n",
    "\n",
    "    # Renombramos también la columna de Eleccion\n",
    "    df_homogeneo_agrupado.loc[ df_homogeneo_agrupado['Eleccion'] == i+1, 'Eleccion' ] = animes[i]\n",
    "\n",
    "# Eliminamos la columna de indice vieja y los indices de la tupla\n",
    "df_homogeneo_agrupado.drop(columns=['index', 'Expertos', 'Capitulos'], inplace=True)\n",
    "\n",
    "# # Renombramos la columna de elección\n",
    "# for i in range\n",
    "# df_homogeneo_agrupado['Eleccion']\n",
    "\n",
    "# Aliminamos las \n",
    "df_homogeneo_agrupado.head(12)"
   ]
  },
  {
   "cell_type": "code",
   "execution_count": 69,
   "metadata": {},
   "outputs": [],
   "source": [
    "# Guardemos el dataset para correr los modelos en R\n",
    "df_homogeneo_agrupado.to_csv('./Dataset/homogeneo.csv', index=False)"
   ]
  }
 ]
}